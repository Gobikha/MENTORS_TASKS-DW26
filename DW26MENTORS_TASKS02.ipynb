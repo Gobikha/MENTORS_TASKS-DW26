{
  "nbformat": 4,
  "nbformat_minor": 0,
  "metadata": {
    "colab": {
      "provenance": [],
      "authorship_tag": "ABX9TyNv93/XUgygMh9DZ/a9y/P5",
      "include_colab_link": true
    },
    "kernelspec": {
      "name": "python3",
      "display_name": "Python 3"
    },
    "language_info": {
      "name": "python"
    }
  },
  "cells": [
    {
      "cell_type": "markdown",
      "metadata": {
        "id": "view-in-github",
        "colab_type": "text"
      },
      "source": [
        "<a href=\"https://colab.research.google.com/github/Gobikha/MENTORS_TASKS-DW26/blob/main/DW26MENTORS_TASKS02.ipynb\" target=\"_parent\"><img src=\"https://colab.research.google.com/assets/colab-badge.svg\" alt=\"Open In Colab\"/></a>"
      ]
    },
    {
      "cell_type": "markdown",
      "source": [
        "**HERE IS THE TASKS THAT WERE GIVEN BY OUR MENTOR DR. SHABARINATH PREMLAL SIR TO DW26 IN THE TOPIC ITERATIONS.**"
      ],
      "metadata": {
        "id": "0PFV7MXKfAPb"
      }
    },
    {
      "cell_type": "markdown",
      "source": [
        "X=(0,1,2,3,4,5,6,7,8,9) \n",
        "\n",
        "Pwd=(5,7,3,8) \n",
        "\n",
        "Generate iterations. Use loop function, to find the place value where the above\n",
        "mentioned password got generated."
      ],
      "metadata": {
        "id": "WIyOoJj3gYfB"
      }
    },
    {
      "cell_type": "markdown",
      "source": [
        "In order to answer this question, at first we have to import the itertools library to the pyhton environment whici we are working."
      ],
      "metadata": {
        "id": "t2JfiZORgsb-"
      }
    },
    {
      "cell_type": "code",
      "source": [
        "from itertools import permutations"
      ],
      "metadata": {
        "id": "uGKMOsl6g_Sa"
      },
      "execution_count": 3,
      "outputs": []
    },
    {
      "cell_type": "code",
      "source": [
        "X=(0,1,2,3,4,5,6,7,8,9) # Input data has been stored in form of X\n",
        "\n",
        "Pwd=(5,7,3,8) # It the password which has to be created using the iteration"
      ],
      "metadata": {
        "id": "deWcJBpSibtI"
      },
      "execution_count": 4,
      "outputs": []
    },
    {
      "cell_type": "code",
      "source": [
        "iterCount=[] # Creating a empty list to store all the permutations\n",
        "\n",
        "Permu=permutations(X,4) # Using the library we are giving the input and the no. of letters that the password has.\n",
        "\n",
        "for i in Permu:\n",
        "  iterCount.append(i)\n",
        "  if i == Pwd:\n",
        "    print(\"Pwd:\",i)\n",
        "    break\n",
        "  else:\n",
        "    continue\n",
        "\n",
        "print(\"THE PASSWORD HAS BEEN GENERATED IN THE\",len(iterCount),\"th COUNT.\")\n",
        "     "
      ],
      "metadata": {
        "colab": {
          "base_uri": "https://localhost:8080/"
        },
        "id": "5OpJRObhie15",
        "outputId": "aa92caa7-09bf-4902-a736-a28b4df6e372"
      },
      "execution_count": 5,
      "outputs": [
        {
          "output_type": "stream",
          "name": "stdout",
          "text": [
            "Pwd: (5, 7, 3, 8)\n",
            "THE PASSWORD HAS BEEN GENERATED IN THE 2883 th COUNT.\n"
          ]
        }
      ]
    },
    {
      "cell_type": "markdown",
      "source": [
        "THUS THE PASSWAORD HAS BEEN IDENTIFIED USING THE ITERATION METHOD."
      ],
      "metadata": {
        "id": "3Uup0erXjxE6"
      }
    }
  ]
}